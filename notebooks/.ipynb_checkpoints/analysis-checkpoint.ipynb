{
 "cells": [
  {
   "cell_type": "code",
   "execution_count": 42,
   "id": "protected-value",
   "metadata": {
    "ExecuteTime": {
     "end_time": "2021-03-28T18:13:57.981164Z",
     "start_time": "2021-03-28T18:13:56.943871Z"
    }
   },
   "outputs": [],
   "source": [
    "import pandas as pd\n",
    "from glob import glob\n",
    "import seaborn as sns\n",
    "\n",
    "sns.set()"
   ]
  },
  {
   "cell_type": "code",
   "execution_count": 69,
   "id": "hidden-chambers",
   "metadata": {
    "ExecuteTime": {
     "end_time": "2021-03-28T18:25:03.599219Z",
     "start_time": "2021-03-28T18:25:03.541103Z"
    }
   },
   "outputs": [],
   "source": [
    "all_dfs = []\n",
    "for f in glob('../data/*.json'):\n",
    "    all_dfs.append(pd.read_json(open(f)))\n",
    "df = pd.concat(all_dfs)"
   ]
  },
  {
   "cell_type": "code",
   "execution_count": 68,
   "id": "numerous-hours",
   "metadata": {
    "ExecuteTime": {
     "end_time": "2021-03-28T18:24:57.744877Z",
     "start_time": "2021-03-28T18:24:57.638245Z"
    }
   },
   "outputs": [
    {
     "data": {
      "text/html": [
       "<div>\n",
       "<style scoped>\n",
       "    .dataframe tbody tr th:only-of-type {\n",
       "        vertical-align: middle;\n",
       "    }\n",
       "\n",
       "    .dataframe tbody tr th {\n",
       "        vertical-align: top;\n",
       "    }\n",
       "\n",
       "    .dataframe thead th {\n",
       "        text-align: right;\n",
       "    }\n",
       "</style>\n",
       "<table border=\"1\" class=\"dataframe\">\n",
       "  <thead>\n",
       "    <tr style=\"text-align: right;\">\n",
       "      <th></th>\n",
       "      <th>mode</th>\n",
       "      <th>slice</th>\n",
       "      <th>output</th>\n",
       "    </tr>\n",
       "  </thead>\n",
       "  <tbody>\n",
       "    <tr>\n",
       "      <th>118</th>\n",
       "      <td>Standard</td>\n",
       "      <td>{'start_line': 101, 'start_col': 8, 'end_line'...</td>\n",
       "      <td>[{'start_line': 101, 'start_col': 23, 'end_lin...</td>\n",
       "    </tr>\n",
       "    <tr>\n",
       "      <th>119</th>\n",
       "      <td>LikeC</td>\n",
       "      <td>{'start_line': 101, 'start_col': 8, 'end_line'...</td>\n",
       "      <td>[{'start_line': 101, 'start_col': 23, 'end_lin...</td>\n",
       "    </tr>\n",
       "    <tr>\n",
       "      <th>120</th>\n",
       "      <td>Standard</td>\n",
       "      <td>{'start_line': 102, 'start_col': 8, 'end_line'...</td>\n",
       "      <td>[{'start_line': 101, 'start_col': 23, 'end_lin...</td>\n",
       "    </tr>\n",
       "    <tr>\n",
       "      <th>121</th>\n",
       "      <td>LikeC</td>\n",
       "      <td>{'start_line': 102, 'start_col': 8, 'end_line'...</td>\n",
       "      <td>[{'start_line': 101, 'start_col': 23, 'end_lin...</td>\n",
       "    </tr>\n",
       "    <tr>\n",
       "      <th>122</th>\n",
       "      <td>Standard</td>\n",
       "      <td>{'start_line': 104, 'start_col': 8, 'end_line'...</td>\n",
       "      <td>[]</td>\n",
       "    </tr>\n",
       "    <tr>\n",
       "      <th>...</th>\n",
       "      <td>...</td>\n",
       "      <td>...</td>\n",
       "      <td>...</td>\n",
       "    </tr>\n",
       "    <tr>\n",
       "      <th>863</th>\n",
       "      <td>LikeC</td>\n",
       "      <td>{'start_line': 424, 'start_col': 9, 'end_line'...</td>\n",
       "      <td>[{'start_line': 424, 'start_col': 9, 'end_line...</td>\n",
       "    </tr>\n",
       "    <tr>\n",
       "      <th>864</th>\n",
       "      <td>Standard</td>\n",
       "      <td>{'start_line': 424, 'start_col': 9, 'end_line'...</td>\n",
       "      <td>[{'start_line': 424, 'start_col': 9, 'end_line...</td>\n",
       "    </tr>\n",
       "    <tr>\n",
       "      <th>865</th>\n",
       "      <td>LikeC</td>\n",
       "      <td>{'start_line': 424, 'start_col': 9, 'end_line'...</td>\n",
       "      <td>[{'start_line': 424, 'start_col': 9, 'end_line...</td>\n",
       "    </tr>\n",
       "    <tr>\n",
       "      <th>866</th>\n",
       "      <td>Standard</td>\n",
       "      <td>{'start_line': 424, 'start_col': 9, 'end_line'...</td>\n",
       "      <td>[{'start_line': 424, 'start_col': 9, 'end_line...</td>\n",
       "    </tr>\n",
       "    <tr>\n",
       "      <th>867</th>\n",
       "      <td>LikeC</td>\n",
       "      <td>{'start_line': 424, 'start_col': 9, 'end_line'...</td>\n",
       "      <td>[{'start_line': 424, 'start_col': 9, 'end_line...</td>\n",
       "    </tr>\n",
       "  </tbody>\n",
       "</table>\n",
       "<p>62 rows × 3 columns</p>\n",
       "</div>"
      ],
      "text/plain": [
       "         mode                                              slice  \\\n",
       "118  Standard  {'start_line': 101, 'start_col': 8, 'end_line'...   \n",
       "119     LikeC  {'start_line': 101, 'start_col': 8, 'end_line'...   \n",
       "120  Standard  {'start_line': 102, 'start_col': 8, 'end_line'...   \n",
       "121     LikeC  {'start_line': 102, 'start_col': 8, 'end_line'...   \n",
       "122  Standard  {'start_line': 104, 'start_col': 8, 'end_line'...   \n",
       "..        ...                                                ...   \n",
       "863     LikeC  {'start_line': 424, 'start_col': 9, 'end_line'...   \n",
       "864  Standard  {'start_line': 424, 'start_col': 9, 'end_line'...   \n",
       "865     LikeC  {'start_line': 424, 'start_col': 9, 'end_line'...   \n",
       "866  Standard  {'start_line': 424, 'start_col': 9, 'end_line'...   \n",
       "867     LikeC  {'start_line': 424, 'start_col': 9, 'end_line'...   \n",
       "\n",
       "                                                output  \n",
       "118  [{'start_line': 101, 'start_col': 23, 'end_lin...  \n",
       "119  [{'start_line': 101, 'start_col': 23, 'end_lin...  \n",
       "120  [{'start_line': 101, 'start_col': 23, 'end_lin...  \n",
       "121  [{'start_line': 101, 'start_col': 23, 'end_lin...  \n",
       "122                                                 []  \n",
       "..                                                 ...  \n",
       "863  [{'start_line': 424, 'start_col': 9, 'end_line...  \n",
       "864  [{'start_line': 424, 'start_col': 9, 'end_line...  \n",
       "865  [{'start_line': 424, 'start_col': 9, 'end_line...  \n",
       "866  [{'start_line': 424, 'start_col': 9, 'end_line...  \n",
       "867  [{'start_line': 424, 'start_col': 9, 'end_line...  \n",
       "\n",
       "[62 rows x 3 columns]"
      ]
     },
     "execution_count": 68,
     "metadata": {},
     "output_type": "execute_result"
    }
   ],
   "source": [
    "df[df.slice.map(lambda s: 'weighted_index' in s['filename'])]"
   ]
  },
  {
   "cell_type": "code",
   "execution_count": 70,
   "id": "appropriate-infrared",
   "metadata": {
    "ExecuteTime": {
     "end_time": "2021-03-28T18:25:07.258259Z",
     "start_time": "2021-03-28T18:25:07.225120Z"
    }
   },
   "outputs": [],
   "source": [
    "def nlines(output):\n",
    "    return len(set(sum([list(range(rng['start_line'], rng['end_line']+1)) for rng in output], [])))\n",
    "df['nlines'] = df.output.map(nlines)"
   ]
  },
  {
   "cell_type": "code",
   "execution_count": 71,
   "id": "verbal-privilege",
   "metadata": {
    "ExecuteTime": {
     "end_time": "2021-03-28T18:25:07.939515Z",
     "start_time": "2021-03-28T18:25:07.932972Z"
    }
   },
   "outputs": [],
   "source": [
    "df['slice_key'] = df.slice.map(lambda s: hash(frozenset(s.items())))"
   ]
  },
  {
   "cell_type": "code",
   "execution_count": 85,
   "id": "alone-boutique",
   "metadata": {
    "ExecuteTime": {
     "end_time": "2021-03-28T18:39:40.258354Z",
     "start_time": "2021-03-28T18:39:40.245856Z"
    }
   },
   "outputs": [
    {
     "ename": "TypeError",
     "evalue": "groupby() got an unexpected keyword argument 'index'",
     "output_type": "error",
     "traceback": [
      "\u001b[0;31m---------------------------------------------------------------------------\u001b[0m",
      "\u001b[0;31mTypeError\u001b[0m                                 Traceback (most recent call last)",
      "\u001b[0;32m<ipython-input-85-5d1f7b501dba>\u001b[0m in \u001b[0;36m<module>\u001b[0;34m\u001b[0m\n\u001b[0;32m----> 1\u001b[0;31m deltas = df.groupby('slice_key', index=False).apply(lambda g: pd.DataFrame([{\n\u001b[0m\u001b[1;32m      2\u001b[0m     \u001b[0;34m'delta'\u001b[0m\u001b[0;34m:\u001b[0m \u001b[0mg\u001b[0m\u001b[0;34m[\u001b[0m\u001b[0mg\u001b[0m\u001b[0;34m[\u001b[0m\u001b[0;34m'mode'\u001b[0m\u001b[0;34m]\u001b[0m \u001b[0;34m==\u001b[0m \u001b[0;34m'LikeC'\u001b[0m\u001b[0;34m]\u001b[0m\u001b[0;34m.\u001b[0m\u001b[0miloc\u001b[0m\u001b[0;34m[\u001b[0m\u001b[0;36m0\u001b[0m\u001b[0;34m]\u001b[0m\u001b[0;34m.\u001b[0m\u001b[0mnlines\u001b[0m \u001b[0;34m-\u001b[0m \u001b[0mg\u001b[0m\u001b[0;34m[\u001b[0m\u001b[0mg\u001b[0m\u001b[0;34m[\u001b[0m\u001b[0;34m'mode'\u001b[0m\u001b[0;34m]\u001b[0m \u001b[0;34m==\u001b[0m \u001b[0;34m'Standard'\u001b[0m\u001b[0;34m]\u001b[0m\u001b[0;34m.\u001b[0m\u001b[0miloc\u001b[0m\u001b[0;34m[\u001b[0m\u001b[0;36m0\u001b[0m\u001b[0;34m]\u001b[0m\u001b[0;34m.\u001b[0m\u001b[0mnlines\u001b[0m\u001b[0;34m,\u001b[0m\u001b[0;34m\u001b[0m\u001b[0;34m\u001b[0m\u001b[0m\n\u001b[1;32m      3\u001b[0m \u001b[0;34m\u001b[0m\u001b[0m\n\u001b[1;32m      4\u001b[0m }]))\n\u001b[1;32m      5\u001b[0m \u001b[0mdeltas\u001b[0m\u001b[0;34m\u001b[0m\u001b[0;34m\u001b[0m\u001b[0m\n",
      "\u001b[0;31mTypeError\u001b[0m: groupby() got an unexpected keyword argument 'index'"
     ]
    }
   ],
   "source": [
    "deltas = df.groupby('slice_key', as_index=False).apply(lambda g: pd.DataFrame([{\n",
    "    'delta': g[g['mode'] == 'LikeC'].iloc[0].nlines - g[g['mode'] == 'Standard'].iloc[0].nlines,\n",
    "    \n",
    "}]))\n",
    "deltas"
   ]
  },
  {
   "cell_type": "code",
   "execution_count": 73,
   "id": "herbal-annex",
   "metadata": {
    "ExecuteTime": {
     "end_time": "2021-03-28T18:25:09.338250Z",
     "start_time": "2021-03-28T18:25:09.164415Z"
    }
   },
   "outputs": [
    {
     "name": "stderr",
     "output_type": "stream",
     "text": [
      "/Users/will/Code/rust-slicer/.env/lib/python3.9/site-packages/seaborn/distributions.py:2557: FutureWarning: `distplot` is a deprecated function and will be removed in a future version. Please adapt your code to use either `displot` (a figure-level function with similar flexibility) or `histplot` (an axes-level function for histograms).\n",
      "  warnings.warn(msg, FutureWarning)\n"
     ]
    },
    {
     "data": {
      "text/plain": [
       "<AxesSubplot:>"
      ]
     },
     "execution_count": 73,
     "metadata": {},
     "output_type": "execute_result"
    },
    {
     "data": {
      "image/png": "[encoded data removed]",
      "text/plain": [
       "<Figure size 432x288 with 1 Axes>"
      ]
     },
     "metadata": {},
     "output_type": "display_data"
    }
   ],
   "source": [
    "sns.distplot(deltas, kde=False, bins=np.arange(0, deltas.max()))"
   ]
  },
  {
   "cell_type": "code",
   "execution_count": 74,
   "id": "unlikely-given",
   "metadata": {
    "ExecuteTime": {
     "end_time": "2021-03-28T18:25:12.154551Z",
     "start_time": "2021-03-28T18:25:12.148266Z"
    }
   },
   "outputs": [
    {
     "data": {
      "text/plain": [
       "0     178\n",
       "2      12\n",
       "1       3\n",
       "3       2\n",
       "4       1\n",
       "5       1\n",
       "6       1\n",
       "7       1\n",
       "8       1\n",
       "12      1\n",
       "dtype: int64"
      ]
     },
     "execution_count": 74,
     "metadata": {},
     "output_type": "execute_result"
    }
   ],
   "source": [
    "deltas.value_counts()"
   ]
  },
  {
   "cell_type": "code",
   "execution_count": 44,
   "id": "ambient-management",
   "metadata": {
    "ExecuteTime": {
     "end_time": "2021-03-28T18:14:12.881619Z",
     "start_time": "2021-03-28T18:14:12.638834Z"
    }
   },
   "outputs": [
    {
     "name": "stderr",
     "output_type": "stream",
     "text": [
      "/Users/will/Code/rust-slicer/.env/lib/python3.9/site-packages/seaborn/distributions.py:2557: FutureWarning: `distplot` is a deprecated function and will be removed in a future version. Please adapt your code to use either `displot` (a figure-level function with similar flexibility) or `histplot` (an axes-level function for histograms).\n",
      "  warnings.warn(msg, FutureWarning)\n"
     ]
    },
    {
     "data": {
      "text/plain": [
       "<AxesSubplot:xlabel='nlines'>"
      ]
     },
     "execution_count": 44,
     "metadata": {},
     "output_type": "execute_result"
    },
    {
     "data": {
      "image/png": "[encoded data removed]",
      "text/plain": [
       "<Figure size 432x288 with 1 Axes>"
      ]
     },
     "metadata": {},
     "output_type": "display_data"
    }
   ],
   "source": [
    "sns.distplot(df.nlines, kde=False)"
   ]
  }
 ],
 "metadata": {
  "kernelspec": {
   "display_name": "Python 3",
   "language": "python",
   "name": "python3"
  },
  "language_info": {
   "codemirror_mode": {
    "name": "ipython",
    "version": 3
   },
   "file_extension": ".py",
   "mimetype": "text/x-python",
   "name": "python",
   "nbconvert_exporter": "python",
   "pygments_lexer": "ipython3",
   "version": "3.9.1"
  },
  "toc": {
   "base_numbering": 1,
   "nav_menu": {},
   "number_sections": true,
   "sideBar": true,
   "skip_h1_title": false,
   "title_cell": "Table of Contents",
   "title_sidebar": "Contents",
   "toc_cell": false,
   "toc_position": {},
   "toc_section_display": true,
   "toc_window_display": false
  },
  "varInspector": {
   "cols": {
    "lenName": 16,
    "lenType": 16,
    "lenVar": 40
   },
   "kernels_config": {
    "python": {
     "delete_cmd_postfix": "",
     "delete_cmd_prefix": "del ",
     "library": "var_list.py",
     "varRefreshCmd": "print(var_dic_list())"
    },
    "r": {
     "delete_cmd_postfix": ") ",
     "delete_cmd_prefix": "rm(",
     "library": "var_list.r",
     "varRefreshCmd": "cat(var_dic_list()) "
    }
   },
   "types_to_exclude": [
    "module",
    "function",
    "builtin_function_or_method",
    "instance",
    "_Feature"
   ],
   "window_display": false
  }
 },
 "nbformat": 4,
 "nbformat_minor": 5
}
