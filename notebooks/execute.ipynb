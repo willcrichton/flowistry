{
 "cells": [
  {
   "cell_type": "code",
   "execution_count": 1,
   "id": "modified-poetry",
   "metadata": {
    "ExecuteTime": {
     "end_time": "2021-06-19T23:08:29.319913Z",
     "start_time": "2021-06-19T23:08:29.275277Z"
    }
   },
   "outputs": [],
   "source": [
    "import os\n",
    "import subprocess as sp\n",
    "from iterextras import par_for\n",
    "from multiprocessing import cpu_count\n",
    "from tqdm.auto import tqdm"
   ]
  },
  {
   "cell_type": "code",
   "execution_count": 2,
   "id": "invisible-sellers",
   "metadata": {
    "ExecuteTime": {
     "end_time": "2021-06-19T23:08:29.680088Z",
     "start_time": "2021-06-19T23:08:29.677031Z"
    }
   },
   "outputs": [],
   "source": [
    "CRATES = [\n",
    "    ('Rocket', 'core/lib/', ''),\n",
    "    ('image', '', ''),\n",
    "    ('rayon', '', None),\n",
    "    ('rg3d', '', None),    \n",
    "    ('nalgebra', '', '--features rand,arbitrary,sparse,debug,io,libm'), # avoid no_unsound_assume_init feature!\n",
    "    ('rustls', 'rustls/', None),\n",
    "    ('sccache', '', ''),\n",
    "    ('hyper', '', '--features full'),    \n",
    "    ('rav1e', '', ''),\n",
    "    ('RustPython', 'vm/', '--features compiler'),\n",
    "]"
   ]
  },
  {
   "cell_type": "code",
   "execution_count": 18,
   "id": "19a31861",
   "metadata": {
    "ExecuteTime": {
     "end_time": "2021-06-27T02:21:46.396713Z",
     "start_time": "2021-06-27T02:21:42.866150Z"
    }
   },
   "outputs": [
    {
     "name": "stdout",
     "output_type": "stream",
     "text": [
      "Rocket 9313\n",
      "image 19718\n",
      "rayon 15524\n",
      "rg3d 54426\n",
      "nalgebra 31951\n",
      "rustls 16866\n",
      "sccache 23202\n",
      "hyper 15082\n",
      "rav1e 50294\n",
      "RustPython 48124\n"
     ]
    },
    {
     "data": {
      "text/plain": [
       "284500"
      ]
     },
     "execution_count": 18,
     "metadata": {},
     "output_type": "execute_result"
    }
   ],
   "source": [
    "CLOC = '/home/wcrichto/.node_modules/bin/cloc'\n",
    "total_loc = 0\n",
    "for (name, subdir, _) in CRATES:\n",
    "    cmd = f\"{CLOC} {name}/{subdir}src --json | jq '.Rust.code'\"\n",
    "    outp = sp.check_output(cmd, shell=True, stderr=sp.STDOUT, cwd=os.path.abspath('../data/repos'))\n",
    "    loc = int(outp.decode('utf-8').strip())\n",
    "    total_loc += loc\n",
    "    print(name, loc)\n",
    "total_loc"
   ]
  },
  {
   "cell_type": "code",
   "execution_count": null,
   "id": "colored-klein",
   "metadata": {
    "ExecuteTime": {
     "end_time": "2021-06-18T00:56:11.824271Z",
     "start_time": "2021-06-18T00:56:11.818774Z"
    }
   },
   "outputs": [],
   "source": [
    "#NUM_THREADS = cpu_count()\n",
    "NUM_THREADS = 30\n",
    "CLEAN = False\n",
    "\n",
    "def analyze_crate(crate):\n",
    "    (name, subdir, feature_flags) = crate\n",
    "    lib_path = os.path.abspath(f'../data/repos/{name}/{subdir}src/lib.rs')\n",
    "    out_path = os.path.abspath(f'../data/{name.replace(\"/\", \"_\")}.json')\n",
    "    working_dir = f'../data/repos/{name}/{subdir}'\n",
    "    \n",
    "    if os.path.exists(out_path) and os.stat(out_path).st_size > 0:\n",
    "        return\n",
    "    \n",
    "    dyld_lib_path = 'LD_LIBRARY_PATH=$($(rustup which --toolchain local rustc) --print target-libdir):$LD_LIBRARY_PATH'\n",
    "    feature_flags = feature_flags if feature_flags is not None else \"--all-features\"\n",
    "    cargo_cmd = f'cargo check {feature_flags}'\n",
    "    if CLEAN:\n",
    "        cargo_cmd = f'cargo clean && {cargo_cmd}'        \n",
    "    cmd = f'rm -f {out_path} && rustup override set local && {cargo_cmd} && {dyld_lib_path} RUST_BACKTRACE=1 RUST_LOG=\"rust_slicer_eval=debug\" rust-slicer-eval -j {NUM_THREADS} {lib_path} {feature_flags} {out_path}'\n",
    "    try:\n",
    "#         print(cmd)\n",
    "        sp.check_output(cmd, shell=True, stderr=sp.PIPE, cwd=working_dir)\n",
    "    except sp.CalledProcessError as e:\n",
    "        print(f'Stderr for {name}')\n",
    "        print(e.stderr.decode('utf-8'))"
   ]
  },
  {
   "cell_type": "code",
   "execution_count": null,
   "id": "4994afbe",
   "metadata": {
    "ExecuteTime": {
     "start_time": "2021-06-18T00:56:11.769Z"
    }
   },
   "outputs": [],
   "source": [
    "# for crate in tqdm(CRATES):\n",
    "#     analyze_crate(crate)\n",
    "par_for(analyze_crate, CRATES, workers=2)"
   ]
  }
 ],
 "metadata": {
  "kernelspec": {
   "display_name": "Python 3",
   "language": "python",
   "name": "python3"
  },
  "language_info": {
   "codemirror_mode": {
    "name": "ipython",
    "version": 3
   },
   "file_extension": ".py",
   "mimetype": "text/x-python",
   "name": "python",
   "nbconvert_exporter": "python",
   "pygments_lexer": "ipython3",
   "version": "3.7.2"
  },
  "toc": {
   "base_numbering": 1,
   "nav_menu": {},
   "number_sections": true,
   "sideBar": true,
   "skip_h1_title": false,
   "title_cell": "Table of Contents",
   "title_sidebar": "Contents",
   "toc_cell": false,
   "toc_position": {},
   "toc_section_display": true,
   "toc_window_display": false
  },
  "varInspector": {
   "cols": {
    "lenName": 16,
    "lenType": 16,
    "lenVar": 40
   },
   "kernels_config": {
    "python": {
     "delete_cmd_postfix": "",
     "delete_cmd_prefix": "del ",
     "library": "var_list.py",
     "varRefreshCmd": "print(var_dic_list())"
    },
    "r": {
     "delete_cmd_postfix": ") ",
     "delete_cmd_prefix": "rm(",
     "library": "var_list.r",
     "varRefreshCmd": "cat(var_dic_list()) "
    }
   },
   "types_to_exclude": [
    "module",
    "function",
    "builtin_function_or_method",
    "instance",
    "_Feature"
   ],
   "window_display": false
  }
 },
 "nbformat": 4,
 "nbformat_minor": 5
}
