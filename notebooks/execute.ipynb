{
 "cells": [
  {
   "cell_type": "code",
   "execution_count": 1,
   "id": "dried-filing",
   "metadata": {
    "ExecuteTime": {
     "end_time": "2021-04-06T17:19:38.443535Z",
     "start_time": "2021-04-06T17:19:38.368796Z"
    }
   },
   "outputs": [],
   "source": [
    "import os\n",
    "import subprocess as sp\n",
    "from iterextras import par_for"
   ]
  },
  {
   "cell_type": "code",
   "execution_count": 2,
   "id": "handled-preserve",
   "metadata": {
    "ExecuteTime": {
     "end_time": "2021-04-06T17:19:38.450005Z",
     "start_time": "2021-04-06T17:19:38.445739Z"
    }
   },
   "outputs": [],
   "source": [
    "CRATES = [\n",
    "    ('Rocket', 'core/lib/', None),\n",
    "    ('image', '', None),\n",
    "    ('rayon', '', None),\n",
    "    ('rg3d', '', None),    \n",
    "    #('RustPython/vm', ''),\n",
    "    ('diesel', 'diesel/', None),\n",
    "    ('nalgebra', '', None),\n",
    "    # ('rav1e', ''),\n",
    "    ('rustls', 'rustls/', None),\n",
    "    ('sccache', '', ''),\n",
    "    ('hyper', '', '--features full'),    \n",
    "]"
   ]
  },
  {
   "cell_type": "code",
   "execution_count": 3,
   "id": "portable-price",
   "metadata": {
    "ExecuteTime": {
     "end_time": "2021-04-06T17:19:38.457115Z",
     "start_time": "2021-04-06T17:19:38.452417Z"
    }
   },
   "outputs": [],
   "source": [
    "def analyze_crate(crate):\n",
    "    (name, subdir, feature_flags) = crate\n",
    "    lib_path = os.path.abspath(f'../data/repos/{name}/{subdir}src/lib.rs')\n",
    "    out_path = os.path.expanduser(f'~/Code/rust-slicer/data/{name.replace(\"/\", \"_\")}.json')\n",
    "    \n",
    "    if os.path.exists(out_path) and os.stat(out_path).st_size > 0:\n",
    "        return\n",
    "    \n",
    "    dyld_lib_path = 'DYLD_LIBRARY_PATH=$($(rustup which --toolchain local rustc) --print target-libdir):$DYLD_LIBRARY_PATH'\n",
    "    feature_flags = feature_flags if feature_flags is not None else \"--all-features\"\n",
    "    cargo_cmd = f'cargo check {feature_flags}'\n",
    "    cmd = f'rm -f {out_path} && {cargo_cmd} && {dyld_lib_path} RUST_BACKTRACE=1 RUST_LOG=\"rust_slicer_eval=debug\" rust-slicer-eval {lib_path} {feature_flags} > {out_path}'\n",
    "    try:\n",
    "        # print(cmd)\n",
    "        sp.check_output(cmd, cwd=f'../data/repos/{name}', shell=True, stderr=sp.PIPE)\n",
    "    except sp.CalledProcessError as e:\n",
    "        print(f'Stderr for {name}')\n",
    "        print(e.stderr.decode('utf-8'))"
   ]
  },
  {
   "cell_type": "code",
   "execution_count": null,
   "id": "heated-console",
   "metadata": {
    "ExecuteTime": {
     "start_time": "2021-04-06T17:19:38.374Z"
    }
   },
   "outputs": [
    {
     "data": {
      "application/vnd.jupyter.widget-view+json": {
       "model_id": "f27d9b4a200c474abc67d9af5fbbe179",
       "version_major": 2,
       "version_minor": 0
      },
      "text/plain": [
       "  0%|          | 0/9 [00:00<?, ?it/s]"
      ]
     },
     "metadata": {},
     "output_type": "display_data"
    }
   ],
   "source": [
    "par_for(analyze_crate, CRATES)"
   ]
  }
 ],
 "metadata": {
  "kernelspec": {
   "display_name": "Python 3",
   "language": "python",
   "name": "python3"
  },
  "language_info": {
   "codemirror_mode": {
    "name": "ipython",
    "version": 3
   },
   "file_extension": ".py",
   "mimetype": "text/x-python",
   "name": "python",
   "nbconvert_exporter": "python",
   "pygments_lexer": "ipython3",
   "version": "3.9.2"
  },
  "toc": {
   "base_numbering": 1,
   "nav_menu": {},
   "number_sections": true,
   "sideBar": true,
   "skip_h1_title": false,
   "title_cell": "Table of Contents",
   "title_sidebar": "Contents",
   "toc_cell": false,
   "toc_position": {},
   "toc_section_display": true,
   "toc_window_display": false
  },
  "varInspector": {
   "cols": {
    "lenName": 16,
    "lenType": 16,
    "lenVar": 40
   },
   "kernels_config": {
    "python": {
     "delete_cmd_postfix": "",
     "delete_cmd_prefix": "del ",
     "library": "var_list.py",
     "varRefreshCmd": "print(var_dic_list())"
    },
    "r": {
     "delete_cmd_postfix": ") ",
     "delete_cmd_prefix": "rm(",
     "library": "var_list.r",
     "varRefreshCmd": "cat(var_dic_list()) "
    }
   },
   "types_to_exclude": [
    "module",
    "function",
    "builtin_function_or_method",
    "instance",
    "_Feature"
   ],
   "window_display": false
  }
 },
 "nbformat": 4,
 "nbformat_minor": 5
}
