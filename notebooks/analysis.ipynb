{
 "cells": [
  {
   "cell_type": "code",
   "execution_count": 1,
   "id": "protected-value",
   "metadata": {
    "ExecuteTime": {
     "end_time": "2021-03-30T00:01:07.093616Z",
     "start_time": "2021-03-30T00:01:06.120986Z"
    }
   },
   "outputs": [],
   "source": [
    "import pandas as pd\n",
    "import matplotlib.pyplot as plt\n",
    "from glob import glob\n",
    "import seaborn as sns\n",
    "import numpy as np\n",
    "\n",
    "sns.set()"
   ]
  },
  {
   "cell_type": "code",
   "execution_count": 2,
   "id": "hidden-chambers",
   "metadata": {
    "ExecuteTime": {
     "end_time": "2021-03-30T00:01:08.244500Z",
     "start_time": "2021-03-30T00:01:07.095595Z"
    }
   },
   "outputs": [],
   "source": [
    "all_dfs = []\n",
    "for f in glob('../data/*.json'):\n",
    "    all_dfs.append(pd.read_json(open(f)))\n",
    "df = pd.concat(all_dfs)"
   ]
  },
  {
   "cell_type": "code",
   "execution_count": 19,
   "id": "appropriate-infrared",
   "metadata": {
    "ExecuteTime": {
     "end_time": "2021-03-30T00:05:10.287733Z",
     "start_time": "2021-03-30T00:05:09.354162Z"
    }
   },
   "outputs": [],
   "source": [
    "def output_nlines(output):\n",
    "    return len(set(sum([list(range(rng['start_line'], rng['end_line']+1)) for rng in output], [])))\n",
    "df['nlines'] = df.output.map(output_nlines)\n",
    "\n",
    "def function_nlines(rng):\n",
    "    return len(range(rng['start_line'], rng['end_line']+1))\n",
    "df['func_nlines'] = df.function.map(function_nlines)\n",
    "\n",
    "df['slice_offset'] = df.apply(lambda row: row.slice['start_line'] - row.function['start_line'], axis=1)"
   ]
  },
  {
   "cell_type": "code",
   "execution_count": 20,
   "id": "verbal-privilege",
   "metadata": {
    "ExecuteTime": {
     "end_time": "2021-03-30T00:05:10.952664Z",
     "start_time": "2021-03-30T00:05:10.932231Z"
    }
   },
   "outputs": [],
   "source": [
    "df['slice_key'] = df.slice.map(lambda s: hash(frozenset(s.items())))"
   ]
  },
  {
   "cell_type": "code",
   "execution_count": 28,
   "id": "german-proof",
   "metadata": {
    "ExecuteTime": {
     "end_time": "2021-03-30T00:06:44.038693Z",
     "start_time": "2021-03-30T00:06:32.699021Z"
    }
   },
   "outputs": [
    {
     "data": {
      "text/html": [
       "<div>\n",
       "<style scoped>\n",
       "    .dataframe tbody tr th:only-of-type {\n",
       "        vertical-align: middle;\n",
       "    }\n",
       "\n",
       "    .dataframe tbody tr th {\n",
       "        vertical-align: top;\n",
       "    }\n",
       "\n",
       "    .dataframe thead th {\n",
       "        text-align: right;\n",
       "    }\n",
       "</style>\n",
       "<table border=\"1\" class=\"dataframe\">\n",
       "  <thead>\n",
       "    <tr style=\"text-align: right;\">\n",
       "      <th></th>\n",
       "      <th></th>\n",
       "      <th>delta</th>\n",
       "      <th>slice</th>\n",
       "      <th>orig_size</th>\n",
       "      <th>func_size</th>\n",
       "      <th>slice_offset</th>\n",
       "    </tr>\n",
       "  </thead>\n",
       "  <tbody>\n",
       "    <tr>\n",
       "      <th>0</th>\n",
       "      <th>0</th>\n",
       "      <td>6</td>\n",
       "      <td>{'start_line': 428, 'start_col': 8, 'end_line'...</td>\n",
       "      <td>37</td>\n",
       "      <td>120</td>\n",
       "      <td>105</td>\n",
       "    </tr>\n",
       "    <tr>\n",
       "      <th>1</th>\n",
       "      <th>0</th>\n",
       "      <td>0</td>\n",
       "      <td>{'start_line': 22752, 'start_col': 12, 'end_li...</td>\n",
       "      <td>6</td>\n",
       "      <td>12</td>\n",
       "      <td>5</td>\n",
       "    </tr>\n",
       "    <tr>\n",
       "      <th>2</th>\n",
       "      <th>0</th>\n",
       "      <td>0</td>\n",
       "      <td>{'start_line': 147, 'start_col': 4, 'end_line'...</td>\n",
       "      <td>0</td>\n",
       "      <td>1</td>\n",
       "      <td>2</td>\n",
       "    </tr>\n",
       "    <tr>\n",
       "      <th>3</th>\n",
       "      <th>0</th>\n",
       "      <td>0</td>\n",
       "      <td>{'start_line': 637, 'start_col': 33, 'end_line...</td>\n",
       "      <td>11</td>\n",
       "      <td>51</td>\n",
       "      <td>9</td>\n",
       "    </tr>\n",
       "    <tr>\n",
       "      <th>4</th>\n",
       "      <th>0</th>\n",
       "      <td>0</td>\n",
       "      <td>{'start_line': 881, 'start_col': 12, 'end_line...</td>\n",
       "      <td>5</td>\n",
       "      <td>21</td>\n",
       "      <td>2</td>\n",
       "    </tr>\n",
       "    <tr>\n",
       "      <th>...</th>\n",
       "      <th>...</th>\n",
       "      <td>...</td>\n",
       "      <td>...</td>\n",
       "      <td>...</td>\n",
       "      <td>...</td>\n",
       "      <td>...</td>\n",
       "    </tr>\n",
       "    <tr>\n",
       "      <th>3328</th>\n",
       "      <th>0</th>\n",
       "      <td>0</td>\n",
       "      <td>{'start_line': 31, 'start_col': 8, 'end_line':...</td>\n",
       "      <td>2</td>\n",
       "      <td>9</td>\n",
       "      <td>1</td>\n",
       "    </tr>\n",
       "    <tr>\n",
       "      <th>3329</th>\n",
       "      <th>0</th>\n",
       "      <td>0</td>\n",
       "      <td>{'start_line': 313, 'start_col': 20, 'end_line...</td>\n",
       "      <td>49</td>\n",
       "      <td>87</td>\n",
       "      <td>55</td>\n",
       "    </tr>\n",
       "    <tr>\n",
       "      <th>3330</th>\n",
       "      <th>0</th>\n",
       "      <td>0</td>\n",
       "      <td>{'start_line': 432, 'start_col': 12, 'end_line...</td>\n",
       "      <td>2</td>\n",
       "      <td>19</td>\n",
       "      <td>9</td>\n",
       "    </tr>\n",
       "    <tr>\n",
       "      <th>3331</th>\n",
       "      <th>0</th>\n",
       "      <td>0</td>\n",
       "      <td>{'start_line': 31400, 'start_col': 12, 'end_li...</td>\n",
       "      <td>3</td>\n",
       "      <td>9</td>\n",
       "      <td>5</td>\n",
       "    </tr>\n",
       "    <tr>\n",
       "      <th>3332</th>\n",
       "      <th>0</th>\n",
       "      <td>0</td>\n",
       "      <td>{'start_line': 690, 'start_col': 28, 'end_line...</td>\n",
       "      <td>6</td>\n",
       "      <td>92</td>\n",
       "      <td>42</td>\n",
       "    </tr>\n",
       "  </tbody>\n",
       "</table>\n",
       "<p>3333 rows × 5 columns</p>\n",
       "</div>"
      ],
      "text/plain": [
       "        delta                                              slice  orig_size  \\\n",
       "0    0      6  {'start_line': 428, 'start_col': 8, 'end_line'...         37   \n",
       "1    0      0  {'start_line': 22752, 'start_col': 12, 'end_li...          6   \n",
       "2    0      0  {'start_line': 147, 'start_col': 4, 'end_line'...          0   \n",
       "3    0      0  {'start_line': 637, 'start_col': 33, 'end_line...         11   \n",
       "4    0      0  {'start_line': 881, 'start_col': 12, 'end_line...          5   \n",
       "...       ...                                                ...        ...   \n",
       "3328 0      0  {'start_line': 31, 'start_col': 8, 'end_line':...          2   \n",
       "3329 0      0  {'start_line': 313, 'start_col': 20, 'end_line...         49   \n",
       "3330 0      0  {'start_line': 432, 'start_col': 12, 'end_line...          2   \n",
       "3331 0      0  {'start_line': 31400, 'start_col': 12, 'end_li...          3   \n",
       "3332 0      0  {'start_line': 690, 'start_col': 28, 'end_line...          6   \n",
       "\n",
       "        func_size  slice_offset  \n",
       "0    0        120           105  \n",
       "1    0         12             5  \n",
       "2    0          1             2  \n",
       "3    0         51             9  \n",
       "4    0         21             2  \n",
       "...           ...           ...  \n",
       "3328 0          9             1  \n",
       "3329 0         87            55  \n",
       "3330 0         19             9  \n",
       "3331 0          9             5  \n",
       "3332 0         92            42  \n",
       "\n",
       "[3333 rows x 5 columns]"
      ]
     },
     "execution_count": 28,
     "metadata": {},
     "output_type": "execute_result"
    }
   ],
   "source": [
    "deltas = df.groupby('slice_key', as_index=False).apply(lambda g: pd.DataFrame([{\n",
    "    'delta': g[g['mode'] == 'LikeC'].iloc[0].nlines - g[g['mode'] == 'Standard'].iloc[0].nlines,\n",
    "    'slice': g.iloc[0].slice,\n",
    "    'orig_size': g[g['mode'] == 'Standard'].iloc[0].nlines,\n",
    "    'func_size': g.iloc[0].func_nlines,\n",
    "    'slice_offset': g.iloc[0].slice_offset\n",
    "}]))\n",
    "deltas"
   ]
  },
  {
   "cell_type": "code",
   "execution_count": 29,
   "id": "million-chassis",
   "metadata": {
    "ExecuteTime": {
     "end_time": "2021-03-30T00:06:46.200581Z",
     "start_time": "2021-03-30T00:06:46.158745Z"
    },
    "scrolled": false
   },
   "outputs": [
    {
     "name": "stdout",
     "output_type": "stream",
     "text": [
      "orig_size 5 delta 163\n",
      "/Users/will/Code/rust-slicer/data/repos/rg3d/src/utils/lightmap.rs:813\n",
      "orig_size 5 delta 163\n",
      "/Users/will/Code/rust-slicer/data/repos/rg3d/src/utils/lightmap.rs:813\n",
      "orig_size 30 delta 155\n",
      "/Users/will/Code/rust-slicer/data/repos/rg3d/src/renderer/mod.rs:1068\n",
      "orig_size 4 delta 122\n",
      "/Users/will/Code/rust-slicer/data/repos/rg3d/src/utils/lightmap.rs:812\n",
      "orig_size 4 delta 122\n",
      "/Users/will/Code/rust-slicer/data/repos/rg3d/src/utils/lightmap.rs:812\n",
      "orig_size 4 delta 122\n",
      "/Users/will/Code/rust-slicer/data/repos/rg3d/src/utils/lightmap.rs:811\n",
      "orig_size 5 delta 120\n",
      "/Users/will/Code/rust-slicer/data/repos/rg3d/src/utils/lightmap.rs:769\n",
      "orig_size 5 delta 120\n",
      "/Users/will/Code/rust-slicer/data/repos/rg3d/src/utils/lightmap.rs:769\n",
      "orig_size 116 delta 102\n",
      "/Users/will/Code/rust-slicer/data/repos/rg3d/src/renderer/ui_renderer.rs:297\n",
      "orig_size 4 delta 99\n",
      "/Users/will/Code/rust-slicer/data/repos/rg3d/src/utils/lightmap.rs:767\n"
     ]
    }
   ],
   "source": [
    "for i in range(10):\n",
    "    x = deltas.sort_values(['delta', 'orig_size']).iloc[-(i+1)]\n",
    "    print('orig_size', x.orig_size, 'delta', x.delta)\n",
    "    print(f'{x.slice[\"filename\"]}:{x.slice[\"start_line\"]+1}')"
   ]
  },
  {
   "cell_type": "code",
   "execution_count": 30,
   "id": "strong-prospect",
   "metadata": {
    "ExecuteTime": {
     "end_time": "2021-03-30T00:06:46.961482Z",
     "start_time": "2021-03-30T00:06:46.956919Z"
    }
   },
   "outputs": [],
   "source": [
    "deltas['func_bin'] = deltas.func_size // 20 * 20"
   ]
  },
  {
   "cell_type": "code",
   "execution_count": 32,
   "id": "pleasant-detector",
   "metadata": {
    "ExecuteTime": {
     "end_time": "2021-03-30T00:07:17.370583Z",
     "start_time": "2021-03-30T00:07:16.990068Z"
    }
   },
   "outputs": [
    {
     "data": {
      "text/plain": [
       "<AxesSubplot:xlabel='func_bin', ylabel='delta'>"
      ]
     },
     "execution_count": 32,
     "metadata": {},
     "output_type": "execute_result"
    },
    {
     "data": {
      "image/png": "[encoded data removed]",
      "text/plain": [
       "<Figure size 1080x360 with 1 Axes>"
      ]
     },
     "metadata": {},
     "output_type": "display_data"
    }
   ],
   "source": [
    "plt.figure(figsize=(15, 5))\n",
    "deltas_filtered = deltas[(deltas.slice_offset > 10) & (deltas.func_bin < 400)]\n",
    "sns.boxplot(data=deltas_filtered, x='func_bin', y='delta', )"
   ]
  },
  {
   "cell_type": "code",
   "execution_count": 33,
   "id": "responsible-relations",
   "metadata": {
    "ExecuteTime": {
     "end_time": "2021-03-30T00:07:19.467312Z",
     "start_time": "2021-03-30T00:07:19.414138Z"
    }
   },
   "outputs": [
    {
     "data": {
      "text/html": [
       "<div>\n",
       "<style scoped>\n",
       "    .dataframe tbody tr th:only-of-type {\n",
       "        vertical-align: middle;\n",
       "    }\n",
       "\n",
       "    .dataframe tbody tr th {\n",
       "        vertical-align: top;\n",
       "    }\n",
       "\n",
       "    .dataframe thead th {\n",
       "        text-align: right;\n",
       "    }\n",
       "</style>\n",
       "<table border=\"1\" class=\"dataframe\">\n",
       "  <thead>\n",
       "    <tr style=\"text-align: right;\">\n",
       "      <th></th>\n",
       "      <th>count</th>\n",
       "      <th>50%</th>\n",
       "      <th>mean</th>\n",
       "      <th>std</th>\n",
       "    </tr>\n",
       "    <tr>\n",
       "      <th>func_bin</th>\n",
       "      <th></th>\n",
       "      <th></th>\n",
       "      <th></th>\n",
       "      <th></th>\n",
       "    </tr>\n",
       "  </thead>\n",
       "  <tbody>\n",
       "    <tr>\n",
       "      <th>0</th>\n",
       "      <td>69.0</td>\n",
       "      <td>0.0</td>\n",
       "      <td>0.086957</td>\n",
       "      <td>0.410850</td>\n",
       "    </tr>\n",
       "    <tr>\n",
       "      <th>20</th>\n",
       "      <td>92.0</td>\n",
       "      <td>0.0</td>\n",
       "      <td>0.206522</td>\n",
       "      <td>0.671852</td>\n",
       "    </tr>\n",
       "    <tr>\n",
       "      <th>40</th>\n",
       "      <td>277.0</td>\n",
       "      <td>0.0</td>\n",
       "      <td>0.761733</td>\n",
       "      <td>1.937683</td>\n",
       "    </tr>\n",
       "    <tr>\n",
       "      <th>60</th>\n",
       "      <td>156.0</td>\n",
       "      <td>0.0</td>\n",
       "      <td>3.134615</td>\n",
       "      <td>5.817755</td>\n",
       "    </tr>\n",
       "    <tr>\n",
       "      <th>80</th>\n",
       "      <td>210.0</td>\n",
       "      <td>0.0</td>\n",
       "      <td>1.528571</td>\n",
       "      <td>3.581136</td>\n",
       "    </tr>\n",
       "    <tr>\n",
       "      <th>100</th>\n",
       "      <td>195.0</td>\n",
       "      <td>0.0</td>\n",
       "      <td>1.317949</td>\n",
       "      <td>2.875678</td>\n",
       "    </tr>\n",
       "    <tr>\n",
       "      <th>120</th>\n",
       "      <td>87.0</td>\n",
       "      <td>0.0</td>\n",
       "      <td>2.137931</td>\n",
       "      <td>2.588761</td>\n",
       "    </tr>\n",
       "    <tr>\n",
       "      <th>180</th>\n",
       "      <td>21.0</td>\n",
       "      <td>22.0</td>\n",
       "      <td>16.190476</td>\n",
       "      <td>16.311404</td>\n",
       "    </tr>\n",
       "    <tr>\n",
       "      <th>200</th>\n",
       "      <td>25.0</td>\n",
       "      <td>24.0</td>\n",
       "      <td>60.280000</td>\n",
       "      <td>54.585193</td>\n",
       "    </tr>\n",
       "    <tr>\n",
       "      <th>240</th>\n",
       "      <td>44.0</td>\n",
       "      <td>0.0</td>\n",
       "      <td>3.863636</td>\n",
       "      <td>23.343333</td>\n",
       "    </tr>\n",
       "    <tr>\n",
       "      <th>260</th>\n",
       "      <td>14.0</td>\n",
       "      <td>0.0</td>\n",
       "      <td>0.000000</td>\n",
       "      <td>0.000000</td>\n",
       "    </tr>\n",
       "    <tr>\n",
       "      <th>280</th>\n",
       "      <td>64.0</td>\n",
       "      <td>1.0</td>\n",
       "      <td>12.125000</td>\n",
       "      <td>19.297586</td>\n",
       "    </tr>\n",
       "    <tr>\n",
       "      <th>300</th>\n",
       "      <td>31.0</td>\n",
       "      <td>0.0</td>\n",
       "      <td>0.451613</td>\n",
       "      <td>0.505879</td>\n",
       "    </tr>\n",
       "  </tbody>\n",
       "</table>\n",
       "</div>"
      ],
      "text/plain": [
       "          count   50%       mean        std\n",
       "func_bin                                   \n",
       "0          69.0   0.0   0.086957   0.410850\n",
       "20         92.0   0.0   0.206522   0.671852\n",
       "40        277.0   0.0   0.761733   1.937683\n",
       "60        156.0   0.0   3.134615   5.817755\n",
       "80        210.0   0.0   1.528571   3.581136\n",
       "100       195.0   0.0   1.317949   2.875678\n",
       "120        87.0   0.0   2.137931   2.588761\n",
       "180        21.0  22.0  16.190476  16.311404\n",
       "200        25.0  24.0  60.280000  54.585193\n",
       "240        44.0   0.0   3.863636  23.343333\n",
       "260        14.0   0.0   0.000000   0.000000\n",
       "280        64.0   1.0  12.125000  19.297586\n",
       "300        31.0   0.0   0.451613   0.505879"
      ]
     },
     "execution_count": 33,
     "metadata": {},
     "output_type": "execute_result"
    }
   ],
   "source": [
    "deltas_filtered.groupby('func_bin').delta.describe()[['count', '50%', 'mean', 'std']]"
   ]
  }
 ],
 "metadata": {
  "kernelspec": {
   "display_name": "Python 3",
   "language": "python",
   "name": "python3"
  },
  "language_info": {
   "codemirror_mode": {
    "name": "ipython",
    "version": 3
   },
   "file_extension": ".py",
   "mimetype": "text/x-python",
   "name": "python",
   "nbconvert_exporter": "python",
   "pygments_lexer": "ipython3",
   "version": "3.9.1"
  },
  "toc": {
   "base_numbering": 1,
   "nav_menu": {},
   "number_sections": true,
   "sideBar": true,
   "skip_h1_title": false,
   "title_cell": "Table of Contents",
   "title_sidebar": "Contents",
   "toc_cell": false,
   "toc_position": {},
   "toc_section_display": true,
   "toc_window_display": false
  },
  "varInspector": {
   "cols": {
    "lenName": 16,
    "lenType": 16,
    "lenVar": 40
   },
   "kernels_config": {
    "python": {
     "delete_cmd_postfix": "",
     "delete_cmd_prefix": "del ",
     "library": "var_list.py",
     "varRefreshCmd": "print(var_dic_list())"
    },
    "r": {
     "delete_cmd_postfix": ") ",
     "delete_cmd_prefix": "rm(",
     "library": "var_list.r",
     "varRefreshCmd": "cat(var_dic_list()) "
    }
   },
   "types_to_exclude": [
    "module",
    "function",
    "builtin_function_or_method",
    "instance",
    "_Feature"
   ],
   "window_display": false
  }
 },
 "nbformat": 4,
 "nbformat_minor": 5
}
