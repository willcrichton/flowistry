{
 "cells": [
  {
   "cell_type": "code",
   "execution_count": null,
   "id": "protected-value",
   "metadata": {
    "ExecuteTime": {
     "end_time": "2021-04-06T16:39:42.220674Z",
     "start_time": "2021-04-06T16:39:41.127961Z"
    }
   },
   "outputs": [],
   "source": [
    "import pandas as pd\n",
    "import matplotlib.pyplot as plt\n",
    "from glob import glob\n",
    "import seaborn as sns\n",
    "import numpy as np\n",
    "from iterextras import par_for\n",
    "import subprocess as sp\n",
    "import os\n",
    "\n",
    "sns.set()"
   ]
  },
  {
   "cell_type": "code",
   "execution_count": null,
   "id": "hidden-chambers",
   "metadata": {
    "ExecuteTime": {
     "end_time": "2021-04-06T16:40:21.961907Z",
     "start_time": "2021-04-06T16:39:55.922172Z"
    }
   },
   "outputs": [],
   "source": [
    "all_dfs = []\n",
    "for f in glob('../data/*.json'):\n",
    "    if os.stat(f).st_size == 0:\n",
    "        continue\n",
    "    crate = os.path.splitext(os.path.basename(f))[0]\n",
    "    df = pd.read_json(open(f))\n",
    "    df['crate'] = crate\n",
    "    all_dfs.append(df)\n",
    "df = pd.concat(all_dfs)"
   ]
  },
  {
   "cell_type": "code",
   "execution_count": null,
   "id": "appropriate-infrared",
   "metadata": {
    "ExecuteTime": {
     "end_time": "2021-04-06T16:41:14.055885Z",
     "start_time": "2021-04-06T16:40:53.711253Z"
    }
   },
   "outputs": [],
   "source": [
    "def output_nlines(output):\n",
    "    return len(set(sum([list(range(rng['start_line'], rng['end_line']+1)) for rng in output], [])))\n",
    "df['nlines'] = df.output.map(output_nlines)\n",
    "\n",
    "def function_nlines(rng):\n",
    "    return len(range(rng['start_line'], rng['end_line']+1))\n",
    "df['func_nlines'] = df.function_range.map(function_nlines)\n",
    "\n",
    "df['slice_offset'] = df.apply(lambda row: row.slice['start_line'] - row.function_range['start_line'], axis=1)"
   ]
  },
  {
   "cell_type": "code",
   "execution_count": null,
   "id": "verbal-privilege",
   "metadata": {
    "ExecuteTime": {
     "end_time": "2021-04-06T16:41:27.847836Z",
     "start_time": "2021-04-06T16:41:26.786002Z"
    }
   },
   "outputs": [],
   "source": [
    "df['slice_key'] = df.slice.map(lambda s: hash(frozenset(s.items())))\n",
    "df['slice_key_32bit'] = df.slice_key.map(lambda n: n & 0xfffffff)"
   ]
  },
  {
   "cell_type": "code",
   "execution_count": null,
   "id": "embedded-increase",
   "metadata": {
    "ExecuteTime": {
     "end_time": "2021-04-06T16:41:43.249855Z",
     "start_time": "2021-04-06T16:41:28.443098Z"
    }
   },
   "outputs": [],
   "source": [
    "from pymer4.models import Lmer\n",
    "\n",
    "df_big = df[df.contains_call_with_ref & (df.slice_offset > 10)]\n",
    "model = Lmer('nlines ~ context_mode * mutability_mode * pointer_mode * slice_offset + (1 | crate)', \n",
    "             data=df_big[['nlines', 'context_mode', 'mutability_mode', 'pointer_mode', 'slice_offset', 'crate']])\n",
    "model.fit(factors={\n",
    "    'mutability_mode': ['DistinguishMut', 'IgnoreMut'],\n",
    "    'context_mode': ['Recurse', 'SigOnly'],\n",
    "    'pointer_mode': ['Precise', 'Conservative']\n",
    "})"
   ]
  },
  {
   "cell_type": "code",
   "execution_count": null,
   "id": "matched-labor",
   "metadata": {
    "ExecuteTime": {
     "end_time": "2021-04-06T16:41:46.588824Z",
     "start_time": "2021-04-06T16:41:45.900927Z"
    }
   },
   "outputs": [],
   "source": [
    "_, t = model.post_hoc(marginal_vars=['context_mode', 'pointer_mode', 'mutability_mode'])\n",
    "t"
   ]
  },
  {
   "cell_type": "code",
   "execution_count": null,
   "id": "fiscal-theta",
   "metadata": {
    "ExecuteTime": {
     "end_time": "2021-04-06T16:42:39.393690Z",
     "start_time": "2021-04-06T16:42:39.156827Z"
    }
   },
   "outputs": [],
   "source": [
    "df_big.groupby(['crate', 'context_mode', 'mutability_mode', 'pointer_mode']).nlines.describe()[['mean', 'std', '50%', 'count']]"
   ]
  }
 ],
 "metadata": {
  "kernelspec": {
   "display_name": "Python 3",
   "language": "python",
   "name": "python3"
  },
  "language_info": {
   "codemirror_mode": {
    "name": "ipython",
    "version": 3
   },
   "file_extension": ".py",
   "mimetype": "text/x-python",
   "name": "python",
   "nbconvert_exporter": "python",
   "pygments_lexer": "ipython3",
   "version": "3.9.2"
  },
  "toc": {
   "base_numbering": 1,
   "nav_menu": {},
   "number_sections": true,
   "sideBar": true,
   "skip_h1_title": false,
   "title_cell": "Table of Contents",
   "title_sidebar": "Contents",
   "toc_cell": false,
   "toc_position": {},
   "toc_section_display": true,
   "toc_window_display": false
  },
  "varInspector": {
   "cols": {
    "lenName": 16,
    "lenType": 16,
    "lenVar": 40
   },
   "kernels_config": {
    "python": {
     "delete_cmd_postfix": "",
     "delete_cmd_prefix": "del ",
     "library": "var_list.py",
     "varRefreshCmd": "print(var_dic_list())"
    },
    "r": {
     "delete_cmd_postfix": ") ",
     "delete_cmd_prefix": "rm(",
     "library": "var_list.r",
     "varRefreshCmd": "cat(var_dic_list()) "
    }
   },
   "types_to_exclude": [
    "module",
    "function",
    "builtin_function_or_method",
    "instance",
    "_Feature"
   ],
   "window_display": false
  }
 },
 "nbformat": 4,
 "nbformat_minor": 5
}
