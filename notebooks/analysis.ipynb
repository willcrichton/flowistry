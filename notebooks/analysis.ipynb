{
 "cells": [
  {
   "cell_type": "code",
   "execution_count": 1,
   "id": "protected-value",
   "metadata": {
    "ExecuteTime": {
     "end_time": "2021-03-30T18:10:00.750366Z",
     "start_time": "2021-03-30T18:09:59.121421Z"
    }
   },
   "outputs": [],
   "source": [
    "import pandas as pd\n",
    "import matplotlib.pyplot as plt\n",
    "from glob import glob\n",
    "import seaborn as sns\n",
    "import numpy as np\n",
    "\n",
    "sns.set()"
   ]
  },
  {
   "cell_type": "code",
   "execution_count": 2,
   "id": "hidden-chambers",
   "metadata": {
    "ExecuteTime": {
     "end_time": "2021-03-30T18:10:02.015928Z",
     "start_time": "2021-03-30T18:10:00.752691Z"
    }
   },
   "outputs": [],
   "source": [
    "all_dfs = []\n",
    "for f in glob('../data/*.json'):\n",
    "    all_dfs.append(pd.read_json(open(f)))\n",
    "df = pd.concat(all_dfs)"
   ]
  },
  {
   "cell_type": "code",
   "execution_count": 3,
   "id": "appropriate-infrared",
   "metadata": {
    "ExecuteTime": {
     "end_time": "2021-03-30T18:10:03.147953Z",
     "start_time": "2021-03-30T18:10:02.019308Z"
    }
   },
   "outputs": [],
   "source": [
    "def output_nlines(output):\n",
    "    return len(set(sum([list(range(rng['start_line'], rng['end_line']+1)) for rng in output], [])))\n",
    "df['nlines'] = df.output.map(output_nlines)\n",
    "\n",
    "def function_nlines(rng):\n",
    "    return len(range(rng['start_line'], rng['end_line']+1))\n",
    "df['func_nlines'] = df.function_range.map(function_nlines)\n",
    "\n",
    "df['slice_offset'] = df.apply(lambda row: row.slice['start_line'] - row.function_range['start_line'], axis=1)"
   ]
  },
  {
   "cell_type": "code",
   "execution_count": 4,
   "id": "verbal-privilege",
   "metadata": {
    "ExecuteTime": {
     "end_time": "2021-03-30T18:10:03.171419Z",
     "start_time": "2021-03-30T18:10:03.150801Z"
    }
   },
   "outputs": [],
   "source": [
    "df['slice_key'] = df.slice.map(lambda s: hash(frozenset(s.items())))"
   ]
  },
  {
   "cell_type": "code",
   "execution_count": 5,
   "id": "german-proof",
   "metadata": {
    "ExecuteTime": {
     "end_time": "2021-03-30T18:10:17.887264Z",
     "start_time": "2021-03-30T18:10:03.173726Z"
    }
   },
   "outputs": [
    {
     "data": {
      "text/html": [
       "<div>\n",
       "<style scoped>\n",
       "    .dataframe tbody tr th:only-of-type {\n",
       "        vertical-align: middle;\n",
       "    }\n",
       "\n",
       "    .dataframe tbody tr th {\n",
       "        vertical-align: top;\n",
       "    }\n",
       "\n",
       "    .dataframe thead th {\n",
       "        text-align: right;\n",
       "    }\n",
       "</style>\n",
       "<table border=\"1\" class=\"dataframe\">\n",
       "  <thead>\n",
       "    <tr style=\"text-align: right;\">\n",
       "      <th></th>\n",
       "      <th></th>\n",
       "      <th>delta</th>\n",
       "      <th>orig_size</th>\n",
       "      <th>slice</th>\n",
       "      <th>func_size</th>\n",
       "      <th>slice_offset</th>\n",
       "      <th>func_path</th>\n",
       "    </tr>\n",
       "  </thead>\n",
       "  <tbody>\n",
       "    <tr>\n",
       "      <th>0</th>\n",
       "      <th>0</th>\n",
       "      <td>0</td>\n",
       "      <td>1</td>\n",
       "      <td>{'start_line': 925, 'start_col': 8, 'end_line'...</td>\n",
       "      <td>109</td>\n",
       "      <td>70</td>\n",
       "      <td>rg3d[8787]::scene::{impl#3}::draw_segment_capsule</td>\n",
       "    </tr>\n",
       "    <tr>\n",
       "      <th>1</th>\n",
       "      <th>0</th>\n",
       "      <td>0</td>\n",
       "      <td>6</td>\n",
       "      <td>{'start_line': 27650, 'start_col': 12, 'end_li...</td>\n",
       "      <td>12</td>\n",
       "      <td>5</td>\n",
       "      <td>rg3d[8787]::renderer::framework::gl::ProgramUn...</td>\n",
       "    </tr>\n",
       "    <tr>\n",
       "      <th>2</th>\n",
       "      <th>0</th>\n",
       "      <td>0</td>\n",
       "      <td>2</td>\n",
       "      <td>{'start_line': 985, 'start_col': 8, 'end_line'...</td>\n",
       "      <td>247</td>\n",
       "      <td>20</td>\n",
       "      <td>rg3d[8787]::renderer::{impl#12}::render_frame</td>\n",
       "    </tr>\n",
       "    <tr>\n",
       "      <th>3</th>\n",
       "      <th>0</th>\n",
       "      <td>0</td>\n",
       "      <td>0</td>\n",
       "      <td>{'start_line': 1188, 'start_col': 8, 'end_line...</td>\n",
       "      <td>97</td>\n",
       "      <td>2</td>\n",
       "      <td>rg3d[8787]::scene::{impl#10}::from_file</td>\n",
       "    </tr>\n",
       "    <tr>\n",
       "      <th>4</th>\n",
       "      <th>0</th>\n",
       "      <td>0</td>\n",
       "      <td>15</td>\n",
       "      <td>{'start_line': 129, 'start_col': 20, 'end_line...</td>\n",
       "      <td>92</td>\n",
       "      <td>46</td>\n",
       "      <td>rg3d[8787]::renderer::ssao::{impl#1}::new</td>\n",
       "    </tr>\n",
       "    <tr>\n",
       "      <th>...</th>\n",
       "      <th>...</th>\n",
       "      <td>...</td>\n",
       "      <td>...</td>\n",
       "      <td>...</td>\n",
       "      <td>...</td>\n",
       "      <td>...</td>\n",
       "      <td>...</td>\n",
       "    </tr>\n",
       "    <tr>\n",
       "      <th>3424</th>\n",
       "      <th>0</th>\n",
       "      <td>0</td>\n",
       "      <td>6</td>\n",
       "      <td>{'start_line': 21847, 'start_col': 12, 'end_li...</td>\n",
       "      <td>12</td>\n",
       "      <td>5</td>\n",
       "      <td>rg3d[8787]::renderer::framework::gl::GetIntege...</td>\n",
       "    </tr>\n",
       "    <tr>\n",
       "      <th>3425</th>\n",
       "      <th>0</th>\n",
       "      <td>0</td>\n",
       "      <td>1</td>\n",
       "      <td>{'start_line': 36, 'start_col': 8, 'end_line':...</td>\n",
       "      <td>13</td>\n",
       "      <td>2</td>\n",
       "      <td>rg3d[8787]::renderer::forward_renderer::{impl#...</td>\n",
       "    </tr>\n",
       "    <tr>\n",
       "      <th>3426</th>\n",
       "      <th>0</th>\n",
       "      <td>24</td>\n",
       "      <td>119</td>\n",
       "      <td>{'start_line': 410, 'start_col': 12, 'end_line...</td>\n",
       "      <td>194</td>\n",
       "      <td>183</td>\n",
       "      <td>rg3d[8787]::utils::lightmap::{impl#7}::new</td>\n",
       "    </tr>\n",
       "    <tr>\n",
       "      <th>3427</th>\n",
       "      <th>0</th>\n",
       "      <td>0</td>\n",
       "      <td>2</td>\n",
       "      <td>{'start_line': 578, 'start_col': 16, 'end_line...</td>\n",
       "      <td>46</td>\n",
       "      <td>12</td>\n",
       "      <td>rg3d[8787]::scene::{impl#3}::draw_sphere</td>\n",
       "    </tr>\n",
       "    <tr>\n",
       "      <th>3428</th>\n",
       "      <th>0</th>\n",
       "      <td>0</td>\n",
       "      <td>4</td>\n",
       "      <td>{'start_line': 1447, 'start_col': 25, 'end_lin...</td>\n",
       "      <td>1</td>\n",
       "      <td>0</td>\n",
       "      <td>rg3d[8787]::scene::physics::{impl#104}::fmt</td>\n",
       "    </tr>\n",
       "  </tbody>\n",
       "</table>\n",
       "<p>3429 rows × 6 columns</p>\n",
       "</div>"
      ],
      "text/plain": [
       "        delta  orig_size                                              slice  \\\n",
       "0    0      0          1  {'start_line': 925, 'start_col': 8, 'end_line'...   \n",
       "1    0      0          6  {'start_line': 27650, 'start_col': 12, 'end_li...   \n",
       "2    0      0          2  {'start_line': 985, 'start_col': 8, 'end_line'...   \n",
       "3    0      0          0  {'start_line': 1188, 'start_col': 8, 'end_line...   \n",
       "4    0      0         15  {'start_line': 129, 'start_col': 20, 'end_line...   \n",
       "...       ...        ...                                                ...   \n",
       "3424 0      0          6  {'start_line': 21847, 'start_col': 12, 'end_li...   \n",
       "3425 0      0          1  {'start_line': 36, 'start_col': 8, 'end_line':...   \n",
       "3426 0     24        119  {'start_line': 410, 'start_col': 12, 'end_line...   \n",
       "3427 0      0          2  {'start_line': 578, 'start_col': 16, 'end_line...   \n",
       "3428 0      0          4  {'start_line': 1447, 'start_col': 25, 'end_lin...   \n",
       "\n",
       "        func_size  slice_offset  \\\n",
       "0    0        109            70   \n",
       "1    0         12             5   \n",
       "2    0        247            20   \n",
       "3    0         97             2   \n",
       "4    0         92            46   \n",
       "...           ...           ...   \n",
       "3424 0         12             5   \n",
       "3425 0         13             2   \n",
       "3426 0        194           183   \n",
       "3427 0         46            12   \n",
       "3428 0          1             0   \n",
       "\n",
       "                                                func_path  \n",
       "0    0  rg3d[8787]::scene::{impl#3}::draw_segment_capsule  \n",
       "1    0  rg3d[8787]::renderer::framework::gl::ProgramUn...  \n",
       "2    0      rg3d[8787]::renderer::{impl#12}::render_frame  \n",
       "3    0            rg3d[8787]::scene::{impl#10}::from_file  \n",
       "4    0          rg3d[8787]::renderer::ssao::{impl#1}::new  \n",
       "...                                                   ...  \n",
       "3424 0  rg3d[8787]::renderer::framework::gl::GetIntege...  \n",
       "3425 0  rg3d[8787]::renderer::forward_renderer::{impl#...  \n",
       "3426 0         rg3d[8787]::utils::lightmap::{impl#7}::new  \n",
       "3427 0           rg3d[8787]::scene::{impl#3}::draw_sphere  \n",
       "3428 0        rg3d[8787]::scene::physics::{impl#104}::fmt  \n",
       "\n",
       "[3429 rows x 6 columns]"
      ]
     },
     "execution_count": 5,
     "metadata": {},
     "output_type": "execute_result"
    }
   ],
   "source": [
    "deltas = df.groupby('slice_key', as_index=False).apply(lambda g: pd.DataFrame([{\n",
    "    'delta': g[g['mode'] == 'LikeC'].iloc[0].nlines - g[g['mode'] == 'Standard'].iloc[0].nlines,\n",
    "    'orig_size': g[g['mode'] == 'Standard'].iloc[0].nlines,\n",
    "    'slice': g.iloc[0].slice,\n",
    "    'func_size': g.iloc[0].func_nlines,\n",
    "    'slice_offset': g.iloc[0].slice_offset,\n",
    "    'func_path': g.iloc[0].function_path\n",
    "}]))\n",
    "deltas"
   ]
  },
  {
   "cell_type": "code",
   "execution_count": 6,
   "id": "infectious-yahoo",
   "metadata": {
    "ExecuteTime": {
     "end_time": "2021-03-30T18:10:17.898618Z",
     "start_time": "2021-03-30T18:10:17.889441Z"
    }
   },
   "outputs": [
    {
     "data": {
      "text/plain": [
       "82"
      ]
     },
     "execution_count": 6,
     "metadata": {},
     "output_type": "execute_result"
    }
   ],
   "source": [
    "deltas_by_func = deltas.groupby('func_path').delta.mean()\n",
    "len(deltas_by_func[deltas_by_func > 0])"
   ]
  },
  {
   "cell_type": "code",
   "execution_count": 7,
   "id": "million-chassis",
   "metadata": {
    "ExecuteTime": {
     "end_time": "2021-03-30T18:10:17.958795Z",
     "start_time": "2021-03-30T18:10:17.900748Z"
    },
    "scrolled": false
   },
   "outputs": [
    {
     "name": "stdout",
     "output_type": "stream",
     "text": [
      "orig_size 4 delta 163\n",
      "/Users/will/Code/rust-slicer/data/repos/rg3d/src/utils/lightmap.rs\n",
      "rg3d[8787]::utils::lightmap::generate_lightmap:813\n",
      "\n",
      "orig_size 4 delta 163\n",
      "/Users/will/Code/rust-slicer/data/repos/rg3d/src/utils/lightmap.rs\n",
      "rg3d[8787]::utils::lightmap::generate_lightmap:813\n",
      "\n",
      "orig_size 30 delta 153\n",
      "/Users/will/Code/rust-slicer/data/repos/rg3d/src/renderer/mod.rs\n",
      "rg3d[8787]::renderer::{impl#12}::render_frame:1068\n",
      "\n",
      "orig_size 4 delta 121\n",
      "/Users/will/Code/rust-slicer/data/repos/rg3d/src/utils/lightmap.rs\n",
      "rg3d[8787]::utils::lightmap::generate_lightmap:812\n",
      "\n",
      "orig_size 4 delta 121\n",
      "/Users/will/Code/rust-slicer/data/repos/rg3d/src/utils/lightmap.rs\n",
      "rg3d[8787]::utils::lightmap::generate_lightmap:812\n",
      "\n",
      "orig_size 4 delta 121\n",
      "/Users/will/Code/rust-slicer/data/repos/rg3d/src/utils/lightmap.rs\n",
      "rg3d[8787]::utils::lightmap::generate_lightmap:811\n",
      "\n",
      "orig_size 4 delta 120\n",
      "/Users/will/Code/rust-slicer/data/repos/rg3d/src/utils/lightmap.rs\n",
      "rg3d[8787]::utils::lightmap::generate_lightmap:769\n",
      "\n",
      "orig_size 4 delta 120\n",
      "/Users/will/Code/rust-slicer/data/repos/rg3d/src/utils/lightmap.rs\n",
      "rg3d[8787]::utils::lightmap::generate_lightmap:769\n",
      "\n",
      "orig_size 116 delta 102\n",
      "/Users/will/Code/rust-slicer/data/repos/rg3d/src/renderer/ui_renderer.rs\n",
      "rg3d[8787]::renderer::ui_renderer::{impl#1}::render:297\n",
      "\n",
      "orig_size 4 delta 99\n",
      "/Users/will/Code/rust-slicer/data/repos/rg3d/src/utils/lightmap.rs\n",
      "rg3d[8787]::utils::lightmap::generate_lightmap:767\n",
      "\n"
     ]
    }
   ],
   "source": [
    "for i in range(10):\n",
    "    x = deltas.sort_values(['delta', 'orig_size']).iloc[-(i+1)]\n",
    "    print('orig_size', x.orig_size, 'delta', x.delta)\n",
    "    print(f'{x.slice[\"filename\"]}\\n{x.func_path}:{x.slice[\"start_line\"]+1}\\n')"
   ]
  },
  {
   "cell_type": "code",
   "execution_count": 8,
   "id": "olympic-composition",
   "metadata": {
    "ExecuteTime": {
     "end_time": "2021-03-30T18:10:17.973073Z",
     "start_time": "2021-03-30T18:10:17.968340Z"
    }
   },
   "outputs": [],
   "source": [
    "deltas['func_bin'] = deltas.func_size // 20 * 20"
   ]
  },
  {
   "cell_type": "code",
   "execution_count": 9,
   "id": "incorporated-bunch",
   "metadata": {
    "ExecuteTime": {
     "end_time": "2021-03-30T18:10:18.474573Z",
     "start_time": "2021-03-30T18:10:17.981590Z"
    }
   },
   "outputs": [
    {
     "data": {
      "text/plain": [
       "<AxesSubplot:xlabel='func_bin', ylabel='delta'>"
      ]
     },
     "execution_count": 9,
     "metadata": {},
     "output_type": "execute_result"
    },
    {
     "data": {
      "image/png": "[encoded data removed]",
      "text/plain": [
       "<Figure size 1080x360 with 1 Axes>"
      ]
     },
     "metadata": {},
     "output_type": "display_data"
    }
   ],
   "source": [
    "plt.figure(figsize=(15, 5))\n",
    "deltas_filtered = deltas[(deltas.slice_offset > 10) & (deltas.func_bin < 400)]\n",
    "sns.boxplot(data=deltas_filtered, x='func_bin', y='delta', )"
   ]
  },
  {
   "cell_type": "code",
   "execution_count": 10,
   "id": "original-control",
   "metadata": {
    "ExecuteTime": {
     "end_time": "2021-03-30T18:10:18.525283Z",
     "start_time": "2021-03-30T18:10:18.477771Z"
    }
   },
   "outputs": [
    {
     "data": {
      "text/html": [
       "<div>\n",
       "<style scoped>\n",
       "    .dataframe tbody tr th:only-of-type {\n",
       "        vertical-align: middle;\n",
       "    }\n",
       "\n",
       "    .dataframe tbody tr th {\n",
       "        vertical-align: top;\n",
       "    }\n",
       "\n",
       "    .dataframe thead th {\n",
       "        text-align: right;\n",
       "    }\n",
       "</style>\n",
       "<table border=\"1\" class=\"dataframe\">\n",
       "  <thead>\n",
       "    <tr style=\"text-align: right;\">\n",
       "      <th></th>\n",
       "      <th>count</th>\n",
       "      <th>50%</th>\n",
       "      <th>mean</th>\n",
       "      <th>std</th>\n",
       "    </tr>\n",
       "    <tr>\n",
       "      <th>func_bin</th>\n",
       "      <th></th>\n",
       "      <th></th>\n",
       "      <th></th>\n",
       "      <th></th>\n",
       "    </tr>\n",
       "  </thead>\n",
       "  <tbody>\n",
       "    <tr>\n",
       "      <th>0</th>\n",
       "      <td>69.0</td>\n",
       "      <td>0.0</td>\n",
       "      <td>0.086957</td>\n",
       "      <td>0.612111</td>\n",
       "    </tr>\n",
       "    <tr>\n",
       "      <th>20</th>\n",
       "      <td>98.0</td>\n",
       "      <td>0.0</td>\n",
       "      <td>0.306122</td>\n",
       "      <td>0.946052</td>\n",
       "    </tr>\n",
       "    <tr>\n",
       "      <th>40</th>\n",
       "      <td>289.0</td>\n",
       "      <td>0.0</td>\n",
       "      <td>0.816609</td>\n",
       "      <td>1.926857</td>\n",
       "    </tr>\n",
       "    <tr>\n",
       "      <th>60</th>\n",
       "      <td>157.0</td>\n",
       "      <td>0.0</td>\n",
       "      <td>2.662420</td>\n",
       "      <td>5.592525</td>\n",
       "    </tr>\n",
       "    <tr>\n",
       "      <th>80</th>\n",
       "      <td>233.0</td>\n",
       "      <td>0.0</td>\n",
       "      <td>1.459227</td>\n",
       "      <td>3.459035</td>\n",
       "    </tr>\n",
       "    <tr>\n",
       "      <th>100</th>\n",
       "      <td>196.0</td>\n",
       "      <td>0.0</td>\n",
       "      <td>1.566327</td>\n",
       "      <td>2.271493</td>\n",
       "    </tr>\n",
       "    <tr>\n",
       "      <th>120</th>\n",
       "      <td>87.0</td>\n",
       "      <td>0.0</td>\n",
       "      <td>2.137931</td>\n",
       "      <td>2.588761</td>\n",
       "    </tr>\n",
       "    <tr>\n",
       "      <th>180</th>\n",
       "      <td>26.0</td>\n",
       "      <td>0.5</td>\n",
       "      <td>13.038462</td>\n",
       "      <td>16.462031</td>\n",
       "    </tr>\n",
       "    <tr>\n",
       "      <th>200</th>\n",
       "      <td>49.0</td>\n",
       "      <td>0.0</td>\n",
       "      <td>30.877551</td>\n",
       "      <td>49.022373</td>\n",
       "    </tr>\n",
       "    <tr>\n",
       "      <th>240</th>\n",
       "      <td>44.0</td>\n",
       "      <td>0.0</td>\n",
       "      <td>3.772727</td>\n",
       "      <td>23.040776</td>\n",
       "    </tr>\n",
       "    <tr>\n",
       "      <th>260</th>\n",
       "      <td>14.0</td>\n",
       "      <td>0.0</td>\n",
       "      <td>0.285714</td>\n",
       "      <td>0.468807</td>\n",
       "    </tr>\n",
       "    <tr>\n",
       "      <th>280</th>\n",
       "      <td>64.0</td>\n",
       "      <td>1.0</td>\n",
       "      <td>12.437500</td>\n",
       "      <td>19.320911</td>\n",
       "    </tr>\n",
       "    <tr>\n",
       "      <th>300</th>\n",
       "      <td>31.0</td>\n",
       "      <td>0.0</td>\n",
       "      <td>0.451613</td>\n",
       "      <td>0.505879</td>\n",
       "    </tr>\n",
       "  </tbody>\n",
       "</table>\n",
       "</div>"
      ],
      "text/plain": [
       "          count  50%       mean        std\n",
       "func_bin                                  \n",
       "0          69.0  0.0   0.086957   0.612111\n",
       "20         98.0  0.0   0.306122   0.946052\n",
       "40        289.0  0.0   0.816609   1.926857\n",
       "60        157.0  0.0   2.662420   5.592525\n",
       "80        233.0  0.0   1.459227   3.459035\n",
       "100       196.0  0.0   1.566327   2.271493\n",
       "120        87.0  0.0   2.137931   2.588761\n",
       "180        26.0  0.5  13.038462  16.462031\n",
       "200        49.0  0.0  30.877551  49.022373\n",
       "240        44.0  0.0   3.772727  23.040776\n",
       "260        14.0  0.0   0.285714   0.468807\n",
       "280        64.0  1.0  12.437500  19.320911\n",
       "300        31.0  0.0   0.451613   0.505879"
      ]
     },
     "execution_count": 10,
     "metadata": {},
     "output_type": "execute_result"
    }
   ],
   "source": [
    "deltas_filtered.groupby('func_bin').delta.describe()[['count', '50%', 'mean', 'std']]"
   ]
  }
 ],
 "metadata": {
  "kernelspec": {
   "display_name": "Python 3",
   "language": "python",
   "name": "python3"
  },
  "language_info": {
   "codemirror_mode": {
    "name": "ipython",
    "version": 3
   },
   "file_extension": ".py",
   "mimetype": "text/x-python",
   "name": "python",
   "nbconvert_exporter": "python",
   "pygments_lexer": "ipython3",
   "version": "3.9.1"
  },
  "toc": {
   "base_numbering": 1,
   "nav_menu": {},
   "number_sections": true,
   "sideBar": true,
   "skip_h1_title": false,
   "title_cell": "Table of Contents",
   "title_sidebar": "Contents",
   "toc_cell": false,
   "toc_position": {},
   "toc_section_display": true,
   "toc_window_display": false
  },
  "varInspector": {
   "cols": {
    "lenName": 16,
    "lenType": 16,
    "lenVar": 40
   },
   "kernels_config": {
    "python": {
     "delete_cmd_postfix": "",
     "delete_cmd_prefix": "del ",
     "library": "var_list.py",
     "varRefreshCmd": "print(var_dic_list())"
    },
    "r": {
     "delete_cmd_postfix": ") ",
     "delete_cmd_prefix": "rm(",
     "library": "var_list.r",
     "varRefreshCmd": "cat(var_dic_list()) "
    }
   },
   "types_to_exclude": [
    "module",
    "function",
    "builtin_function_or_method",
    "instance",
    "_Feature"
   ],
   "window_display": false
  }
 },
 "nbformat": 4,
 "nbformat_minor": 5
}
